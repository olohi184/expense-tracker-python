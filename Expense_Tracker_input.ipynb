{
  "nbformat": 4,
  "nbformat_minor": 0,
  "metadata": {
    "colab": {
      "provenance": [],
      "authorship_tag": "ABX9TyO1XZCuKcohuKjhBrq+P4YO",
      "include_colab_link": true
    },
    "kernelspec": {
      "name": "python3",
      "display_name": "Python 3"
    },
    "language_info": {
      "name": "python"
    }
  },
  "cells": [
    {
      "cell_type": "markdown",
      "metadata": {
        "id": "view-in-github",
        "colab_type": "text"
      },
      "source": [
        "<a href=\"https://colab.research.google.com/github/olohi184/expense-tracker-python/blob/main/Expense_Tracker_input.ipynb\" target=\"_parent\"><img src=\"https://colab.research.google.com/assets/colab-badge.svg\" alt=\"Open In Colab\"/></a>"
      ]
    },
    {
      "cell_type": "code",
      "execution_count": 1,
      "metadata": {
        "colab": {
          "base_uri": "https://localhost:8080/"
        },
        "id": "jgYvsbNghKVm",
        "outputId": "feaa75bf-b6c3-41b6-f329-a42b4d34a35c"
      },
      "outputs": [
        {
          "output_type": "stream",
          "name": "stdout",
          "text": [
            "Welcome to Expense Tracker!\n",
            "Enter your expenses. Type 'q' when done.\n",
            "\n",
            "Enter expense item (or 'q' to quit): food\n",
            "Enter amount for food: 5000\n",
            "Enter expense item (or 'q' to quit): transportation\n",
            "Enter amount for transportation: 10000\n",
            "Enter expense item (or 'q' to quit): water \n",
            "Enter amount for water : 4000\n",
            "Enter expense item (or 'q' to quit): housing rent\n",
            "Enter amount for housing rent: 250000\n",
            "Enter expense item (or 'q' to quit): Fuel\n",
            "Enter amount for Fuel: 7000\n",
            "Enter expense item (or 'q' to quit): clothes\n",
            "Enter amount for clothes: 6000\n",
            "Enter expense item (or 'q' to quit): shoes\n",
            "Enter amount for shoes: 5000\n",
            "Enter expense item (or 'q' to quit): q\n",
            "\n",
            "📝 Your Expenses:\n",
            "- food: 5000.0\n",
            "- transportation: 10000.0\n",
            "- water : 4000.0\n",
            "- housing rent: 250000.0\n",
            "- Fuel: 7000.0\n",
            "- clothes: 6000.0\n",
            "- shoes: 5000.0\n",
            "\n",
            "💰 Total Expenses = 287000.0\n"
          ]
        }
      ],
      "source": [
        "# expense_tracker_input.py\n",
        "\n",
        "# Dictionary to store expenses\n",
        "expenses = {}\n",
        "\n",
        "print(\"Welcome to Expense Tracker!\")\n",
        "print(\"Enter your expenses. Type 'q' when done.\\n\")\n",
        "\n",
        "# Loop to collect user input\n",
        "while True:\n",
        "    item = input(\"Enter expense item (or 'q' to quit): \")\n",
        "\n",
        "    if item.lower() == 'q':\n",
        "        break\n",
        "\n",
        "    try:\n",
        "        amount = float(input(f\"Enter amount for {item}: \"))\n",
        "        expenses[item] = amount\n",
        "    except ValueError:\n",
        "        print(\"❌ Invalid amount. Please enter a number.\")\n",
        "\n",
        "# Calculate total expenses\n",
        "total = sum(expenses.values())\n",
        "\n",
        "print(\"\\n📝 Your Expenses:\")\n",
        "for item, amount in expenses.items():\n",
        "    print(f\"- {item}: {amount}\")\n",
        "\n",
        "print(f\"\\n💰 Total Expenses = {total}\")\n"
      ]
    }
  ]
}