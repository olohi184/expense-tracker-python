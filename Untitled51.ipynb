{
  "nbformat": 4,
  "nbformat_minor": 0,
  "metadata": {
    "colab": {
      "provenance": [],
      "authorship_tag": "ABX9TyNFvNtiCYHexcjgTrISjFV2",
      "include_colab_link": true
    },
    "kernelspec": {
      "name": "python3",
      "display_name": "Python 3"
    },
    "language_info": {
      "name": "python"
    }
  },
  "cells": [
    {
      "cell_type": "markdown",
      "metadata": {
        "id": "view-in-github",
        "colab_type": "text"
      },
      "source": [
        "<a href=\"https://colab.research.google.com/github/olohi184/expense-tracker-python/blob/main/Untitled51.ipynb\" target=\"_parent\"><img src=\"https://colab.research.google.com/assets/colab-badge.svg\" alt=\"Open In Colab\"/></a>"
      ]
    },
    {
      "cell_type": "code",
      "execution_count": 1,
      "metadata": {
        "colab": {
          "base_uri": "https://localhost:8080/"
        },
        "id": "wzP33dtE_SVy",
        "outputId": "db29950f-31f6-4826-b302-60049024acf3"
      },
      "outputs": [
        {
          "output_type": "stream",
          "name": "stdout",
          "text": [
            "Total Expenses: 6500\n"
          ]
        }
      ],
      "source": [
        "expenses = {\"Food\": 3000, \"Transport\": 1500, \"Data\": 2000}\n",
        "total = sum(expenses.values())\n",
        "print(\"Total Expenses:\", total)\n"
      ]
    },
    {
      "cell_type": "code",
      "source": [
        "def add(x, y): return x + y\n",
        "def subtract(x, y): return x - y\n",
        "def multiply(x, y): return x * y\n",
        "def divide(x, y): return x / y if y != 0 else \"Error: Division by zero\"\n",
        "\n",
        "print(\"Calculator Example:\")\n",
        "print(\"10 + 5 =\", add(10, 5))\n",
        "print(\"10 - 5 =\", subtract(10, 5))\n",
        "print(\"10 * 5 =\", multiply(10, 5))\n",
        "print(\"10 / 5 =\", divide(10, 5))\n"
      ],
      "metadata": {
        "colab": {
          "base_uri": "https://localhost:8080/"
        },
        "id": "DdWYPiKkAQjR",
        "outputId": "89fec013-ab52-466f-ebd4-324bccd86569"
      },
      "execution_count": 2,
      "outputs": [
        {
          "output_type": "stream",
          "name": "stdout",
          "text": [
            "Calculator Example:\n",
            "10 + 5 = 15\n",
            "10 - 5 = 5\n",
            "10 * 5 = 50\n",
            "10 / 5 = 2.0\n"
          ]
        }
      ]
    },
    {
      "cell_type": "code",
      "source": [
        "import random\n",
        "import string\n",
        "\n",
        "def generate_password(length=12):\n",
        "    characters = string.ascii_letters + string.digits + string.punctuation\n",
        "    password = ''.join(random.choice(characters) for i in range(length))\n",
        "    return password\n",
        "\n",
        "print(\"Generated Password:\", generate_password(12))\n"
      ],
      "metadata": {
        "colab": {
          "base_uri": "https://localhost:8080/"
        },
        "id": "U9ZjGc-uAaj1",
        "outputId": "135d1aa5-7f8a-4907-8212-e2d5c2d60e0f"
      },
      "execution_count": 3,
      "outputs": [
        {
          "output_type": "stream",
          "name": "stdout",
          "text": [
            "Generated Password: dV*CAFwt/Um%\n"
          ]
        }
      ]
    },
    {
      "cell_type": "code",
      "source": [
        "weather = \"rainy\"  # pretend this is fetched from an API\n",
        "\n",
        "if weather == \"rainy\":\n",
        "    print(\"Don't forget your umbrella!\")\n",
        "elif weather == \"sunny\":\n",
        "    print(\"Wear sunscreen today!\")\n",
        "else:\n",
        "    print(\"Have a great day!\")\n"
      ],
      "metadata": {
        "colab": {
          "base_uri": "https://localhost:8080/"
        },
        "id": "yA4aVgiFA65A",
        "outputId": "90de799c-5ead-4f37-dc82-e483e062450f"
      },
      "execution_count": 4,
      "outputs": [
        {
          "output_type": "stream",
          "name": "stdout",
          "text": [
            "Don't forget your umbrella!\n"
          ]
        }
      ]
    }
  ]
}